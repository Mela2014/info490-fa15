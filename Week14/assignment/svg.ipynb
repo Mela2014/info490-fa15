{
 "cells": [
  {
   "cell_type": "markdown",
   "metadata": {},
   "source": [
    "Before you turn this problem in, make sure everything runs as expected. First, restart the kernel (in the menubar, select Kernel → Restart) and then run all cells (in the menubar, select Cell → Run All).\n",
    "Make sure you fill in any place that says YOUR CODE HERE. Do not write your answer in anywhere else other than where it says YOUR CODE HERE.\n",
    "\n",
    "First, write your name and NetID below:"
   ]
  },
  {
   "cell_type": "code",
   "execution_count": null,
   "metadata": {
    "collapsed": true
   },
   "outputs": [],
   "source": [
    "NAME = 'WRITE YOUR NAME HERE'\n",
    "NETID = 'WRITE YOUR NETID HERE'"
   ]
  },
  {
   "cell_type": "markdown",
   "metadata": {},
   "source": [
    "# Week 14 Assignment\n",
    "\n",
    "In this assignment, we will visualize the total number of flights and current temperature of the top 20 airports using the 2001 flight data. This week's assignment is one long, continuous problem, but I split it up into two sections for easier grading. Before you start coding, read the entire notebook first to understand the big picture."
   ]
  },
  {
   "cell_type": "code",
   "execution_count": null,
   "metadata": {
    "collapsed": true,
    "deletable": false,
    "nbgrader": {
     "checksum": "278b25bd1fc74249bfb53db34ea54f86",
     "grade": false,
     "grade_id": "import",
     "locked": true,
     "solution": false
    }
   },
   "outputs": [],
   "source": [
    "import numpy as np\n",
    "import pandas as pd\n",
    "import sqlite3 as sl\n",
    "import requests\n",
    "from bs4 import BeautifulSoup\n",
    "\n",
    "from nose.tools import assert_equal\n",
    "\n",
    "from IPython.display import SVG, display_svg"
   ]
  },
  {
   "cell_type": "markdown",
   "metadata": {},
   "source": [
    "This is where we are going:"
   ]
  },
  {
   "cell_type": "code",
   "execution_count": null,
   "metadata": {
    "collapsed": false
   },
   "outputs": [],
   "source": [
    "# run this cell if there's no image\n",
    "r = requests.get(\"https://raw.githubusercontent.com/UI-DataScience/info490-fa15/master/Week14/assignment/top20.svg\")\n",
    "SVG(r.content)"
   ]
  },
  {
   "cell_type": "markdown",
   "metadata": {},
   "source": [
    "The circles are the top 20 airports in the U.S. The size of each circle is proportional to the total number of arrivals and departures in 2001. The redder the color, the higher the temperature; the bluer the color, the lower the temperature. Thus, we will visualize three pieces of information in one single plot: the location of major airports, the size of the airports, and the current temperature.\n",
    "\n",
    "## Problem 14.1. Top 20 Airports.\n",
    "\n",
    "Recall that in [Problem 9.1](https://github.com/UI-DataScience/info490-fa15/blob/master/Week9/assignment/xml.ipynb) we wrote a function named `get_total_flights()` that adds the number of departures and the number of arrivals in 2001:\n",
    "\n",
    "```python\n",
    "dest_origin = pd.read_csv(\"2001.csv\", encoding='latin-1', usecols=('Dest', 'Origin'))\n",
    "flights = get_total_flights(dest_origin)\n",
    "```\n",
    "\n",
    "And we also found which 20 airports had the most number of flights:\n",
    "\n",
    "```python\n",
    "top20 = flights.sort(ascending=False, inplace=False)[:20]\n",
    "```\n",
    "\n",
    "Suppose that we have stored the result (the data frame `top20`) in an SQL database named [top20.db](https://github.com/UI-DataScience/info490-fa15/blob/master/Week14/assignment/top20.db?raw=true). You can download `top20.db` from the course repository on Github:"
   ]
  },
  {
   "cell_type": "code",
   "execution_count": null,
   "metadata": {
    "collapsed": false,
    "deletable": false,
    "nbgrader": {
     "checksum": "788aefe9e731df5d818d2511d9d67cd3",
     "grade": false,
     "grade_id": "wget_db",
     "locked": true,
     "solution": false
    }
   },
   "outputs": [],
   "source": [
    "!wget -O top20.db https://github.com/UI-DataScience/info490-fa15/blob/master/Week14/assignment/top20.db?raw=true"
   ]
  },
  {
   "cell_type": "markdown",
   "metadata": {},
   "source": [
    "### Function: read\\_top20()\n",
    "\n",
    "Your first task is to\n",
    "\n",
    "- Write a functoin named `read_top20()` that takes the file name (`top20.db`) and returns a Pandas data frame with the contents of the `top20` table in the database."
   ]
  },
  {
   "cell_type": "code",
   "execution_count": null,
   "metadata": {
    "collapsed": false,
    "deletable": false,
    "nbgrader": {
     "checksum": "78b17dcceceda7fee458e02df2726e14",
     "grade": false,
     "grade_id": "read_top20_answer",
     "locked": false,
     "solution": true
    }
   },
   "outputs": [],
   "source": [
    "def read_top20(db):\n",
    "    \"\"\"\n",
    "    Takes the file name of an SQL database.\n",
    "    Returns a Pandas data frame of all rows in the \"top20\" table of that database.\n",
    "    \n",
    "    Parameters\n",
    "    ----------\n",
    "    db (str): file name of SQL database.\n",
    "    \n",
    "    Returns\n",
    "    -------\n",
    "    A Pandas.DataFrame with all rows in \"top20\" table.\n",
    "    \"\"\"\n",
    "    \n",
    "    ## YOUR CODE HERE\n",
    "    \n",
    "    return result"
   ]
  },
  {
   "cell_type": "markdown",
   "metadata": {},
   "source": [
    "So, when we do\n",
    "\n",
    "```python\n",
    "top20 = read_top20(\"top20.db\")\n",
    "print(top20)\n",
    "```\n",
    "\n",
    "the output should be\n",
    "\n",
    "```\n",
    "   iata  flights\n",
    "0   ORD   682636\n",
    "1   DFW   624361\n",
    "2   ATL   503163\n",
    "3   LAX   450019\n",
    "4   PHX   368631\n",
    "5   STL   324477\n",
    "6   DTW   297522\n",
    "7   MSP   284955\n",
    "8   LAS   272293\n",
    "9   BOS   266032\n",
    "10  DEN   265184\n",
    "11  IAH   257193\n",
    "12  CLT   256626\n",
    "13  SFO   243473\n",
    "14  EWR   241016\n",
    "15  PHL   239390\n",
    "16  LGA   232964\n",
    "17  PIT   212738\n",
    "18  SEA   205486\n",
    "19  BWI   199674\n",
    "```"
   ]
  },
  {
   "cell_type": "code",
   "execution_count": null,
   "metadata": {
    "collapsed": false,
    "deletable": false,
    "nbgrader": {
     "checksum": "25c0dcd6c87713473b5a4a093aa51438",
     "grade": false,
     "grade_id": "print_top20",
     "locked": true,
     "solution": false
    }
   },
   "outputs": [],
   "source": [
    "top20 = read_top20(\"top20.db\")\n",
    "print(top20)"
   ]
  },
  {
   "cell_type": "markdown",
   "metadata": {},
   "source": [
    "Make sure that your function passes the following unit test."
   ]
  },
  {
   "cell_type": "code",
   "execution_count": null,
   "metadata": {
    "collapsed": false,
    "deletable": false,
    "nbgrader": {
     "checksum": "60c115ee0db8aacc5a81683f5394258b",
     "grade": true,
     "grade_id": "read_top20_test",
     "locked": true,
     "points": 10,
     "solution": false
    }
   },
   "outputs": [],
   "source": [
    "answer = {\n",
    "    \"iata\": [\n",
    "        'ORD', 'DFW', 'ATL', 'LAX', 'PHX',\n",
    "        'STL', 'DTW', 'MSP', 'LAS', 'BOS',\n",
    "        'DEN', 'IAH', 'CLT', 'SFO', 'EWR',\n",
    "        'PHL', 'LGA', 'PIT', 'SEA', 'BWI'],\n",
    "    \"flights\": [\n",
    "        682636, 624361, 503163, 450019, 368631,\n",
    "        324477, 297522, 284955, 272293, 266032,\n",
    "        265184, 257193, 256626, 243473, 241016,\n",
    "        239390, 232964, 212738, 205486, 199674]\n",
    "}\n",
    "\n",
    "answer_df = pd.DataFrame(answer)\n",
    "\n",
    "np.testing.assert_array_equal(top20[\"iata\"].values, answer_df[\"iata\"].values)\n",
    "np.testing.assert_array_equal(top20[\"flights\"].values, answer_df[\"flights\"].values)"
   ]
  },
  {
   "cell_type": "markdown",
   "metadata": {},
   "source": [
    "Note that our airports are identified by IATA codes in the dataframe. However, the circles in [airports.svg](https://raw.githubusercontent.com/UI-DataScience/info490-fa15/master/Week14/assignment/airports.svg) are identified by city names, e.g., \"Chicago\" or \"San Francisco\". For example, the circle that corresponds to O'Hare Airport is represented by the following XML code in [airports.svg](https://raw.githubusercontent.com/UI-DataScience/info490-fa15/master/Week14/assignment/airports.svg):\n",
    "  \n",
    "```xml\n",
    "<circle cx=\"367.68198\" cy=\"118.095\"\n",
    "    stroke=\"black\" stroke-width=\"1\" r=\"5\" fill=\"red\"\n",
    "    id=\"Chicago\"/>\n",
    "```\n",
    "\n",
    "So we need to match the IATA codes with the city names.\n",
    "  \n",
    "Note that this problem is similar to `get_airport()` in [Problem 5.2](https://github.com/UI-DataScience/info490-fa15/blob/master/Week5/assignment/requests.ipynb) and `is_delayed()` in [Problem 9.2](https://github.com/UI-DataScience/info490-fa15/blob/master/Week9/assignment/xml.ipynb), but you should use [Beautiful Soup](http://www.crummy.com/software/BeautifulSoup/bs4/doc/) in this problem.\n",
    "\n",
    "\n",
    "### Function: get\\_city()\n",
    "\n",
    "- Write a function named `get_city` that takes an XML (str) and returns the city name (str). See the unit tests below."
   ]
  },
  {
   "cell_type": "code",
   "execution_count": null,
   "metadata": {
    "collapsed": true,
    "deletable": false,
    "nbgrader": {
     "checksum": "4e9cc1c203d391080b4becc284d17459",
     "grade": false,
     "grade_id": "get_city_answer",
     "locked": false,
     "solution": true
    }
   },
   "outputs": [],
   "source": [
    "def get_city(xml):\n",
    "    \"\"\"\n",
    "    Takes an XML and returns the city name.\n",
    "    \n",
    "    Parameters\n",
    "    ----------\n",
    "    xml (str): An XML script.\n",
    "    \n",
    "    Returns\n",
    "    -------\n",
    "    A string.\n",
    "    \"\"\"\n",
    "    \n",
    "    ## YOUR CODE HERE\n",
    "    \n",
    "    return result"
   ]
  },
  {
   "cell_type": "markdown",
   "metadata": {},
   "source": [
    "The following code cell tests the function `get_city()`."
   ]
  },
  {
   "cell_type": "code",
   "execution_count": null,
   "metadata": {
    "collapsed": false,
    "deletable": false,
    "nbgrader": {
     "checksum": "1b83f930d98e04eedcfbb8b08b3d21bb",
     "grade": true,
     "grade_id": "get_city_test",
     "locked": true,
     "points": 10,
     "solution": false
    }
   },
   "outputs": [],
   "source": [
    "test1 = '''\n",
    "<?xml version=\"1.0\" encoding=\"UTF-8\"?><AirportStatus> \n",
    "\t\t\t\t\t<Delay>true</Delay>\n",
    "\t\t\t\t\n",
    "\t\t\t\t\t<IATA>ORD</IATA>\n",
    "\t\t\t\t\n",
    "\t\t\t\t\t<State>Illinois</State>\n",
    "\t\t\t\t\n",
    "\t\t\t\t\t<Name>Chicago OHare International</Name>\n",
    "\t\t\t\t\n",
    "\t\t\t\t\t<Weather><Visibility>10.00</Visibility>\n",
    "\t\t\t\t\n",
    "\t\t\t\t\t<Weather>Partly Cloudy</Weather>\n",
    "\t\t\t\t\n",
    "\t\t\t\t\t<Meta><Credit>NOAA&apos;s National Weather Service</Credit>\n",
    "\t\t\t\t\n",
    "\t\t\t\t\t<Updated>12:51 PM Local</Updated>\n",
    "\t\t\t\t\n",
    "\t\t\t\t\t<Url>http://weather.gov/</Url></Meta>\n",
    "\t\t\t\t\n",
    "\t\t\t\t\t<Temp>53.0 F (11.7 C)</Temp>\n",
    "\t\t\t\t\n",
    "\t\t\t\t\t<Wind>Northwest at 12.7mph</Wind></Weather>\n",
    "\t\t\t\t\n",
    "\t\t\t\t\t<ICAO>KORD</ICAO>\n",
    "\t\t\t\t\n",
    "\t\t\t\t\t<City>Chicago</City>\n",
    "\t\t\t\t\n",
    "\t\t\t\t\t<Status><Reason>VOL:Multi-taxi</Reason>\n",
    "\t\t\t\t\n",
    "\t\t\t\t\t<ClosureBegin></ClosureBegin>\n",
    "\t\t\t\t\n",
    "\t\t\t\t\t<EndTime></EndTime>\n",
    "\t\t\t\t\n",
    "\t\t\t\t\t<MinDelay>16 minutes</MinDelay>\n",
    "\t\t\t\t\n",
    "\t\t\t\t\t<AvgDelay></AvgDelay>\n",
    "\t\t\t\t\n",
    "\t\t\t\t\t<MaxDelay>30 minutes</MaxDelay>\n",
    "\t\t\t\t\n",
    "\t\t\t\t\t<ClosureEnd></ClosureEnd>\n",
    "\t\t\t\t\n",
    "\t\t\t\t\t<Trend>Increasing</Trend>\n",
    "\t\t\t\t\n",
    "\t\t\t\t\t<Type>Departure</Type></Status>\n",
    "\t\t\t\t</AirportStatus> \n",
    "'''.strip()\n",
    "\n",
    "test2 = '''\n",
    "<?xml version=\"1.0\" encoding=\"UTF-8\"?><AirportStatus> \n",
    "\t\t\t\t\t<Delay>false</Delay>\n",
    "\t\t\t\t\n",
    "\t\t\t\t\t<IATA>SFO</IATA>\n",
    "\t\t\t\t\n",
    "\t\t\t\t\t<State>California</State>\n",
    "\t\t\t\t\n",
    "\t\t\t\t\t<Name>San Francisco International</Name>\n",
    "\t\t\t\t\n",
    "\t\t\t\t\t<Weather><Visibility>10.00</Visibility>\n",
    "\t\t\t\t\n",
    "\t\t\t\t\t<Weather>Partly Cloudy</Weather>\n",
    "\t\t\t\t\n",
    "\t\t\t\t\t<Meta><Credit>NOAA&apos;s National Weather Service</Credit>\n",
    "\t\t\t\t\n",
    "\t\t\t\t\t<Updated>12:56 PM Local</Updated>\n",
    "\t\t\t\t\n",
    "\t\t\t\t\t<Url>http://weather.gov/</Url></Meta>\n",
    "\t\t\t\t\n",
    "\t\t\t\t\t<Temp>68.0 F (20.0 C)</Temp>\n",
    "\t\t\t\t\n",
    "\t\t\t\t\t<Wind>North at 5.8mph</Wind></Weather>\n",
    "\t\t\t\t\n",
    "\t\t\t\t\t<ICAO>KSFO</ICAO>\n",
    "\t\t\t\t\n",
    "\t\t\t\t\t<City>San Francisco</City>\n",
    "\t\t\t\t\n",
    "\t\t\t\t\t<Status><Reason>No known delays for this airport.</Reason>\n",
    "\t\t\t\t\n",
    "\t\t\t\t\t<ClosureBegin></ClosureBegin>\n",
    "\t\t\t\t\n",
    "\t\t\t\t\t<EndTime></EndTime>\n",
    "\t\t\t\t\n",
    "\t\t\t\t\t<MinDelay></MinDelay>\n",
    "\t\t\t\t\n",
    "\t\t\t\t\t<AvgDelay></AvgDelay>\n",
    "\t\t\t\t\n",
    "\t\t\t\t\t<MaxDelay></MaxDelay>\n",
    "\t\t\t\t\n",
    "\t\t\t\t\t<ClosureEnd></ClosureEnd>\n",
    "\t\t\t\t\n",
    "\t\t\t\t\t<Trend></Trend>\n",
    "\t\t\t\t\n",
    "\t\t\t\t\t<Type></Type></Status>\n",
    "\t\t\t\t</AirportStatus> \n",
    "'''.strip()\n",
    "\n",
    "assert_equal(get_city(test1), \"Chicago\")\n",
    "assert_equal(get_city(test2), \"San Francisco\")"
   ]
  },
  {
   "cell_type": "markdown",
   "metadata": {},
   "source": [
    "### Function: get\\_temp()\n",
    "\n",
    "- Write a function named `get_temp` that takes an XML (str) and returns the current temperature (float)."
   ]
  },
  {
   "cell_type": "code",
   "execution_count": null,
   "metadata": {
    "collapsed": true,
    "deletable": false,
    "nbgrader": {
     "checksum": "ee44f31ce258a79e3417e65a33cdf32b",
     "grade": false,
     "grade_id": "get_temp_answer",
     "locked": false,
     "solution": true
    }
   },
   "outputs": [],
   "source": [
    "def get_temp(xml):\n",
    "    \"\"\"\n",
    "    Takes an XML and returns the temperature.\n",
    "    \n",
    "    Parameters\n",
    "    ----------\n",
    "    xml (str): An XML script.\n",
    "    \n",
    "    Returns\n",
    "    -------\n",
    "    A float.\n",
    "    \"\"\"\n",
    "    \n",
    "    ## YOUR CODE HERE\n",
    "    \n",
    "    return result"
   ]
  },
  {
   "cell_type": "markdown",
   "metadata": {},
   "source": [
    "The following code cell tests the function `get_temp()`."
   ]
  },
  {
   "cell_type": "code",
   "execution_count": null,
   "metadata": {
    "collapsed": false,
    "deletable": false,
    "nbgrader": {
     "checksum": "7e77aa59b10327d33a65428fa6e9a3bb",
     "grade": true,
     "grade_id": "get_temp_test",
     "locked": true,
     "points": 10,
     "solution": false
    }
   },
   "outputs": [],
   "source": [
    "assert_equal(get_temp(test1), 53.0)\n",
    "assert_equal(get_temp(test2), 68.0)"
   ]
  },
  {
   "cell_type": "markdown",
   "metadata": {},
   "source": [
    "Let's use `get_city()` and `get_temp()` to add the city names and temperatures to the data frame. Make sure that `get_city()` and `get_temp()` passed the unit tests before running the following code cell, because too many HTTP requests may lock you out for a while. You should get\n",
    "\n",
    "```python\n",
    "print(top20)\n",
    "```\n",
    "```\n",
    "   iata  flights             city  temperature\n",
    "0   ORD   682636          Chicago           53\n",
    "1   DFW   624361  Dallas-Ft Worth           81\n",
    "2   ATL   503163          Atlanta           75\n",
    "3   LAX   450019      Los Angeles           71\n",
    "4   PHX   368631          Phoenix           91\n",
    "5   STL   324477         St Louis           63\n",
    "6   DTW   297522          Detroit           53\n",
    "7   MSP   284955      Minneapolis           44\n",
    "8   LAS   272293        Las Vegas           76\n",
    "9   BOS   266032           Boston           61\n",
    "10  DEN   265184           Denver           61\n",
    "11  IAH   257193          Houston           86\n",
    "12  CLT   256626        Charlotte           74\n",
    "13  SFO   243473    San Francisco           66\n",
    "14  EWR   241016           Newark           63\n",
    "15  PHL   239390     Philadelphia           65\n",
    "16  LGA   232964         New York           61\n",
    "17  PIT   212738       Pittsburgh           55\n",
    "18  SEA   205486          Seattle           58\n",
    "19  BWI   199674        Baltimore           63\n",
    "```"
   ]
  },
  {
   "cell_type": "code",
   "execution_count": null,
   "metadata": {
    "collapsed": false,
    "deletable": false,
    "nbgrader": {
     "checksum": "1c6ab0462ee949231bcca2ee3c6a3ff8",
     "grade": false,
     "grade_id": "add_city_temp",
     "locked": true,
     "solution": false
    }
   },
   "outputs": [],
   "source": [
    "for idx, row in top20.iterrows():\n",
    "    url = \"https://raw.githubusercontent.com/UI-DataScience/info490-fa15/master/Week14/assignment/xml/{}\"\n",
    "    r = requests.get(url.format(row[\"iata\"]))\n",
    "    top20.loc[idx, \"city\"] = get_city(r.text)\n",
    "    top20.loc[idx, \"temperature\"] = get_temp(r.text)\n",
    "    \n",
    "print(top20)"
   ]
  },
  {
   "cell_type": "markdown",
   "metadata": {},
   "source": [
    "## Problem 14.2. Data Visualization.\n",
    "\n",
    "- Use the blank U.S. map with 20 major cities\n",
    "  [airports.svg](https://rawgit.com/INFO490/spring2015/master/week09/images/airports.svg)\n",
    "  to visualize the `top20` dataframe.\n",
    "  \n",
    "Run the following cell to display the SVG template.."
   ]
  },
  {
   "cell_type": "code",
   "execution_count": null,
   "metadata": {
    "collapsed": false,
    "deletable": false,
    "nbgrader": {
     "checksum": "1cc101b83466a5ca61a4cebb1d0b222c",
     "grade": false,
     "grade_id": "usairports",
     "locked": true,
     "solution": false
    }
   },
   "outputs": [],
   "source": [
    "resp = requests.get(\"https://raw.githubusercontent.com/UI-DataScience/info490-fa15/master/Week14/assignment/airports.svg\")\n",
    "usairports = resp.content\n",
    "display_svg(usairports, raw=True)"
   ]
  },
  {
   "cell_type": "markdown",
   "metadata": {},
   "source": [
    "You should use BeautifulSoup to adjust the size and color of the circles to create a figure similar to the following. Again, the radius of a circle is proportional to the total traffic of that airport. The color of a circle depends on the current temperature at that airport."
   ]
  },
  {
   "cell_type": "code",
   "execution_count": null,
   "metadata": {
    "collapsed": false
   },
   "outputs": [],
   "source": [
    "resp = requests.get(\"https://raw.githubusercontent.com/UI-DataScience/info490-fa15/master/Week14/assignment/top20.svg\")\n",
    "SVG(resp.content)"
   ]
  },
  {
   "cell_type": "markdown",
   "metadata": {},
   "source": [
    "(Your figure does not have to look exactly the same. Choose a different set of sizes and colors if you wish.)\n",
    "\n",
    "[Lesson 2](https://github.com/UI-DataScience/info490-fa15/blob/master/Week14/lesson2.md) and [Lesson 3](https://github.com/UI-DataScience/info490-fa15/blob/master/Week14/lesson3.md) cover how to use BeautifulSoup to parse an SVG file (which is in XML format), search for the FIPS code of each county, and replace the colors using a dataframe (unemployment data). Although we are searching for different objects (circles) and using a different data set (`top20`), the same principle applies.\n",
    "\n",
    "Remember that each circle is represented by the following XML code:\n",
    "\n",
    "```\n",
    "<circle cx=\"367.68198\" cy=\"118.095\"\n",
    "    stroke=\"black\" stroke-width=\"1\" r=\"5\" fill=\"red\"\n",
    "    id=\"Chicago\"/>\n",
    "```\n",
    "\n",
    "So you should use BeautifulSoup to parse the `usairports` (the contents of `airports.svg` file) and search for all instances of `circle`. Then, iterate over each instance of circle and replace the `r` variable with the number of flights flights in the `top20` dataframe (multiplied/divided by some proportionaly constant since a circle with a radius `r=\"682636\"` won't work). You should also replace the `fill` variable with a color the temperature `temp`. After replacing all instances of `circle`, display the result with `display_svg(soup.prettify(), raw=True)`.\n",
    "\n",
    "Write your answer for Problem 14.2 in the following code cell."
   ]
  },
  {
   "cell_type": "code",
   "execution_count": null,
   "metadata": {
    "collapsed": false,
    "deletable": false,
    "nbgrader": {
     "checksum": "43772b6a3cf33ba4559f0ea464047e2c",
     "grade": true,
     "grade_id": "svg",
     "locked": false,
     "points": 30,
     "solution": true
    }
   },
   "outputs": [],
   "source": [
    "## YOUR CODE HERE"
   ]
  }
 ],
 "metadata": {
  "kernelspec": {
   "display_name": "Python 3",
   "language": "python",
   "name": "python3"
  },
  "language_info": {
   "codemirror_mode": {
    "name": "ipython",
    "version": 3
   },
   "file_extension": ".py",
   "mimetype": "text/x-python",
   "name": "python",
   "nbconvert_exporter": "python",
   "pygments_lexer": "ipython3",
   "version": "3.4.0"
  }
 },
 "nbformat": 4,
 "nbformat_minor": 0
}
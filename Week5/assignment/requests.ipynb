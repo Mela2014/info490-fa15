{
 "cells": [
  {
   "cell_type": "markdown",
   "metadata": {
    "deletable": false,
    "nbgrader": {
     "checksum": "41a30ab8ea0a3c800ba0e101da71ec81",
     "grade": false,
     "grade_id": "header",
     "locked": true,
     "solution": false
    }
   },
   "source": [
    "Before you turn this problem in, make sure everything runs as expected. First, restart the kernel (in the menubar, select Kernel → Restart) and then run all cells (in the menubar, select Cell → Run All).\n",
    "\n",
    "Make sure you fill in any place that says YOUR CODE HERE.\n",
    "Do not write your answer in anywhere else other than where it says YOUR CODE HERE.\n",
    "\n",
    "First, write your name and NetID below:"
   ]
  },
  {
   "cell_type": "code",
   "execution_count": null,
   "metadata": {
    "collapsed": true
   },
   "outputs": [],
   "source": [
    "NAME = 'WRITE YOUR NAME HERE'\n",
    "NETID = 'WRITE YOUR NETID HERE'"
   ]
  },
  {
   "cell_type": "markdown",
   "metadata": {
    "deletable": false,
    "nbgrader": {
     "checksum": "9bbd2d3835482a7700fb8500a2d63df7",
     "grade": false,
     "grade_id": "instructions_0",
     "locked": true,
     "solution": false
    }
   },
   "source": [
    "# Problem 5.2. Requests.\n",
    "\n",
    "As you might have noticed in [Problem 4.2](https://github.com/UI-DataScience/info490-fa15/blob/master/Week4/assignment/unix_ipython.ipynb), the [airline on-time performance data](http://stat-computing.org/dataexpo/2009/) that we will use throughout the course uses [IATA codes](https://en.wikipedia.org/wiki/International_Air_Transport_Association_airport_code) to identify airports. For example,\n",
    "\n",
    "```shell\n",
    "$ head /home/data_scientist/data/2001.csv\n",
    "```\n",
    "```\n",
    "Year,Month,DayofMonth,DayOfWeek,DepTime,CRSDepTime,ArrTime,CRSArrTime,UniqueCarrier,FlightNum,TailNum,ActualElapsedTime,CRSElapsedTime,AirTime,ArrDelay,DepDelay,Origin,Dest,Distance,TaxiIn,TaxiOut,Cancelled,CancellationCode,Diverted,CarrierDelay,WeatherDelay,NASDelay,SecurityDelay,LateAircraftDelay\n",
    "2001,1,17,3,1806,1810,1931,1934,US,375,N700��,85,84,60,-3,-4,BWI,CLT,361,5,20,0,NA,0,NA,NA,NA,NA,NA\n",
    "2001,1,18,4,1805,1810,1938,1934,US,375,N713��,93,84,64,4,-5,BWI,CLT,361,9,20,0,NA,0,NA,NA,NA,NA,NA\n",
    "2001,1,19,5,1821,1810,1957,1934,US,375,N702��,96,84,80,23,11,BWI,CLT,361,6,10,0,NA,0,NA,NA,NA,NA,NA\n",
    "2001,1,20,6,1807,1810,1944,1934,US,375,N701��,97,84,66,10,-3,BWI,CLT,361,4,27,0,NA,0,NA,NA,NA,NA,NA\n",
    "2001,1,21,7,1810,1810,1954,1934,US,375,N768��,104,84,62,20,0,BWI,CLT,361,4,38,0,NA,0,NA,NA,NA,NA,NA\n",
    "2001,1,22,1,1807,1810,1931,1934,US,375,N722��,84,84,61,-3,-3,BWI,CLT,361,12,11,0,NA,0,NA,NA,NA,NA,NA\n",
    "2001,1,23,2,1802,1810,1924,1934,US,375,N732��,82,84,61,-10,-8,BWI,CLT,361,5,16,0,NA,0,NA,NA,NA,NA,NA\n",
    "2001,1,24,3,1804,1810,1922,1934,US,375,N737��,78,84,60,-12,-6,BWI,CLT,361,4,14,0,NA,0,NA,NA,NA,NA,NA\n",
    "2001,1,25,4,1812,1810,1925,1934,US,375,N767��,73,84,52,-9,2,BWI,CLT,361,6,15,0,NA,0,NA,NA,NA,NA,NA\n",
    "```\n",
    "\n",
    "Here, BWI and CLT are IATA codes for Baltimore-Washington International airport and Charlotte Douglas International Airport.\n",
    "\n",
    "We probably need a way to look up the IATA codes and match them with the city names or the airport names You could use a supplementary data set such as [airports.csv](http://stat-computing.org/dataexpo/2009/supplemental-data.html) that contains all this information, but let's pretend that no such file exists and we have to gather this information ourselves.\n",
    "\n",
    "FAA provides a [web service](http://services.faa.gov/docs/services/airport/#airportStatus) that lets us obtain various information on U.S. airports, including known delays and weather data. You should read http://services.faa.gov/docs/services/airport/ and try a few sample requests to make sure you understand how it works. When you make a query, the FAA web service will respond with a text in an XML or a JSON format. We will learn more about these and other data formats later in the course. Although we haven't covered these formats yet, JSON is a fair game, becuase it's essentially a Python dictoinary. If you understand Python dictionaries, you know JSON. And since we haven't covered JSON properly, the code parts that deal with JSON will be provided in this problem."
   ]
  },
  {
   "cell_type": "code",
   "execution_count": null,
   "metadata": {
    "collapsed": true,
    "deletable": false,
    "nbgrader": {
     "checksum": "d3c09c662e4db49eb4a0161b9ab6528b",
     "grade": false,
     "grade_id": "import",
     "locked": true,
     "solution": false
    }
   },
   "outputs": [],
   "source": [
    "import requests\n",
    "from nose.tools import assert_equal"
   ]
  },
  {
   "cell_type": "markdown",
   "metadata": {
    "deletable": false,
    "nbgrader": {
     "checksum": "4c194d23b822eb9d471ac69a17e347d5",
     "grade": false,
     "grade_id": "instructions_1",
     "locked": true,
     "solution": false
    }
   },
   "source": [
    "## Write a function named `get_airport` that takes an IATA code and returns the text response of airport status.\n",
    "\n",
    "- The first argument (`iata`) is a string that represents the IATA code of an airport, e.g. `\"ORD\"`, `\"SFO\"`, or `\"JFK\"`.\n",
    "- The function should return the [response content](http://www.python-requests.org/en/latest/user/quickstart/#response-content) of the `requests.get()` object. For example,\n",
    "  ```python\n",
    "  >>> ord_json = get_airport(\"ORD\")\n",
    "  >>> ord_json\n",
    "  ```\n",
    "  ```\n",
    "  '{\"delay\":\"true\",\"IATA\":\"ORD\",\"state\":\"Illinois\",\"name\":\"Chicago OHare International\",\"weather:{\"visibility\":6.00,\"weather\":\"Thunderstorm Light Rain Fog/Mist\",\"meta\":{\"credit\":\"NOAA\\'s National Weather Service\",\"updated\":\"6:51 PM Local\",\"url\":\"http://weather.gov/\"},\"temp\":\"72.0 F (22.2 C)\",\"wind\":\"North at 0.0mph\"},\"ICAO\":\"KORD\",\"city\":\"Chicago\",\"status\":{\"reason\":\"WEATHER / THUNDERSTORMS\",\"closureBegin\":\"\",\"endTime\":\"\",\"minDelay\":\"\",\"avgDelay\":\"2 hours and 44 minutes\",\"maxDelay\":\"\",\"closureEnd\":\"\",\"trend\":\"\",\"type\":\"Ground Delay\"}} '\n",
    "  ```\n",
    "  ```python\n",
    "  >>> type(ord_json)\n",
    "  ```\n",
    "  ```\n",
    "  type\n",
    "  ```\n",
    "  \n",
    "- The format of the reponse from the [airport service](http://services.faa.gov/docs/services/airport/) can either be in JSON or XML, but our function should always return a JSON string.\n",
    "  \n",
    "- Read the [Requests](http://www.python-requests.org/en/latest/) documentation for more information."
   ]
  },
  {
   "cell_type": "code",
   "execution_count": null,
   "metadata": {
    "collapsed": true,
    "deletable": false,
    "nbgrader": {
     "checksum": "57c828d769f56c0e70c17eca2afb884d",
     "grade": false,
     "grade_id": "get_airport_answer",
     "locked": false,
     "solution": true
    }
   },
   "outputs": [],
   "source": [
    "def get_airport(iata):\n",
    "    '''\n",
    "    '''\n",
    "    # YOUR CODE HERE\n",
    "    \n",
    "    return result"
   ]
  },
  {
   "cell_type": "markdown",
   "metadata": {
    "deletable": false,
    "nbgrader": {
     "checksum": "aa56f5b39a6108faef364060511421c4",
     "grade": false,
     "grade_id": "instructions_2",
     "locked": true,
     "solution": false
    }
   },
   "source": [
    "As promised, in the following code cell is a piece of code that converts a JSON string into a dictionary. The `json.loads()` function converts a JSON string into a Python dictionary."
   ]
  },
  {
   "cell_type": "code",
   "execution_count": null,
   "metadata": {
    "collapsed": true,
    "deletable": false,
    "nbgrader": {
     "checksum": "481a918de300e50aa731067a03aff66e",
     "grade": false,
     "grade_id": "instructions_3",
     "locked": true,
     "solution": false
    }
   },
   "outputs": [],
   "source": [
    "import json\n",
    "\n",
    "ord_json = json.loads(get_airport(\"ORD\"))\n",
    "sfo_json = json.loads(get_airport(\"SFO\"))"
   ]
  },
  {
   "cell_type": "markdown",
   "metadata": {
    "deletable": false,
    "nbgrader": {
     "checksum": "7502817877f760eb4c77ebab2cc2fdc9",
     "grade": false,
     "grade_id": "instructions_4",
     "locked": true,
     "solution": false
    }
   },
   "source": [
    "The following code cell checks if `ord_json` and `sfo_json` are dictionaries and check their values. Make sure that the code cell produces no errors."
   ]
  },
  {
   "cell_type": "code",
   "execution_count": null,
   "metadata": {
    "collapsed": false,
    "deletable": false,
    "nbgrader": {
     "checksum": "f2796789ab8aa30944a70d61848eeb83",
     "grade": true,
     "grade_id": "get_airport_test",
     "locked": true,
     "points": 15,
     "solution": false
    }
   },
   "outputs": [],
   "source": [
    "assert_equal(isinstance(ord_json, dict), True)\n",
    "assert_equal(ord_json[\"IATA\"], \"ORD\")\n",
    "assert_equal(ord_json[\"city\"], \"Chicago\")\n",
    "assert_equal(ord_json[\"state\"], \"Illinois\")\n",
    "assert_equal(ord_json[\"name\"], \"Chicago OHare International\")\n",
    "\n",
    "assert_equal(isinstance(sfo_json, dict), True)\n",
    "assert_equal(sfo_json[\"IATA\"], \"SFO\")\n",
    "assert_equal(sfo_json[\"city\"], \"San Francisco\")\n",
    "assert_equal(sfo_json[\"state\"], \"California\")\n",
    "assert_equal(sfo_json[\"name\"], \"San Francisco International\")"
   ]
  },
  {
   "cell_type": "markdown",
   "metadata": {
    "deletable": false,
    "nbgrader": {
     "checksum": "4ab75b0f606beb42f7c7a4dbf82e75f6",
     "grade": false,
     "grade_id": "instructions_5",
     "locked": true,
     "solution": false
    }
   },
   "source": [
    "The [airports.csv](http://stat-computing.org/dataexpo/2009/supplemental-data.html) file that I mentioned earlier looks like this:\n",
    "\n",
    "```shell\n",
    "$ head /home/data_scientist/data/airports.csv\n",
    "```\n",
    "```\n",
    "\"iata\",\"airport\",\"city\",\"state\",\"country\",\"lat\",\"long\"\n",
    "\"00M\",\"Thigpen \",\"Bay Springs\",\"MS\",\"USA\",31.95376472,-89.23450472\n",
    "\"00R\",\"Livingston Municipal\",\"Livingston\",\"TX\",\"USA\",30.68586111,-95.01792778\n",
    "\"00V\",\"Meadow Lake\",\"Colorado Springs\",\"CO\",\"USA\",38.94574889,-104.5698933\n",
    "\"01G\",\"Perry-Warsaw\",\"Perry\",\"NY\",\"USA\",42.74134667,-78.05208056\n",
    "\"01J\",\"Hilliard Airpark\",\"Hilliard\",\"FL\",\"USA\",30.6880125,-81.90594389\n",
    "\"01M\",\"Tishomingo County\",\"Belmont\",\"MS\",\"USA\",34.49166667,-88.20111111\n",
    "\"02A\",\"Gragg-Wade \",\"Clanton\",\"AL\",\"USA\",32.85048667,-86.61145333\n",
    "\"02C\",\"Capitol\",\"Brookfield\",\"WI\",\"USA\",43.08751,-88.17786917\n",
    "\"02G\",\"Columbiana County\",\"East Liverpool\",\"OH\",\"USA\",40.67331278,-80.64140639\n",
    "```\n",
    "\n",
    "With our `get_airport()` function, we can reproduce every columns of the `airports.csv` file except the latitude and the longitude.\n",
    "\n",
    "## Write a function named `write_airports()` that takes a list of dictionaries, and writes in a file named `top_20_airports.csv` the columns `iata`, `airport`, `city`, `state`, and `country`.\n",
    "\n",
    "Here are the IATA codes for the top 20 U.S. airports."
   ]
  },
  {
   "cell_type": "code",
   "execution_count": null,
   "metadata": {
    "collapsed": true,
    "deletable": false,
    "nbgrader": {
     "checksum": "ff3280916fdb1cc2d776dc6e7abc51b1",
     "grade": false,
     "grade_id": "instructions_6",
     "locked": true,
     "solution": false
    }
   },
   "outputs": [],
   "source": [
    "airports = ['ORD', 'DFW', 'ATL', 'LAX', 'PHX',\n",
    "            'STL', 'DTW', 'MSP', 'LAS', 'BOS',\n",
    "            'DEN', 'IAH', 'CLT', 'SFO', 'EWR',\n",
    "            'PHL', 'LGA', 'PIT', 'SEA', 'BWI']"
   ]
  },
  {
   "cell_type": "markdown",
   "metadata": {
    "deletable": false,
    "nbgrader": {
     "checksum": "ae5f95a1ee9a6d97b93738b24bb10341",
     "grade": false,
     "grade_id": "instructions_7",
     "locked": true,
     "solution": false
    }
   },
   "source": [
    "Using the above list, we can build a list of dictionaries by reading the JSON strings that we get from `get_airport()`."
   ]
  },
  {
   "cell_type": "code",
   "execution_count": null,
   "metadata": {
    "collapsed": false,
    "deletable": false,
    "nbgrader": {
     "checksum": "5f6d86e1b81b9b209e50abf0f39fedc4",
     "grade": false,
     "grade_id": "instructions_8",
     "locked": true,
     "solution": false
    }
   },
   "outputs": [],
   "source": [
    "list_of_dictionaries = []\n",
    "for airport in airports:\n",
    "    list_of_dictionaries.append(json.loads(get_airport(airport)))"
   ]
  },
  {
   "cell_type": "code",
   "execution_count": null,
   "metadata": {
    "collapsed": false,
    "deletable": false,
    "nbgrader": {
     "checksum": "941b5b87b3c72d2c469d6cf1c1b65f2c",
     "grade": false,
     "grade_id": "instructions_9",
     "locked": true,
     "solution": false
    }
   },
   "outputs": [],
   "source": [
    "for a_dict in list_of_dictionaries:\n",
    "    print(a_dict)\n",
    "    print('\\n')"
   ]
  },
  {
   "cell_type": "code",
   "execution_count": null,
   "metadata": {
    "collapsed": false,
    "deletable": false,
    "nbgrader": {
     "checksum": "ce28aab62f3e1d0dcf4ade1f37ed8d2d",
     "grade": false,
     "grade_id": "write_airports_answer",
     "locked": false,
     "solution": true
    }
   },
   "outputs": [],
   "source": [
    "def write_airports(list_of_dictionaries, filename):\n",
    "    # YOUR CODE HERE\n",
    "    return None"
   ]
  },
  {
   "cell_type": "code",
   "execution_count": null,
   "metadata": {
    "collapsed": false,
    "deletable": false,
    "nbgrader": {
     "checksum": "46f2a3effd19a265e536e1072827ae4d",
     "grade": false,
     "grade_id": "instructions_10",
     "locked": true,
     "solution": false
    }
   },
   "outputs": [],
   "source": [
    "write_airports(list_of_dictionaries, 'top_20_airports.csv')\n",
    "\n",
    "%cat top_20_airports.csv"
   ]
  },
  {
   "cell_type": "code",
   "execution_count": null,
   "metadata": {
    "collapsed": false,
    "deletable": false,
    "nbgrader": {
     "checksum": "38aba6f3f00c71d1be1c452121f11f54",
     "grade": true,
     "grade_id": "write_answer_test",
     "locked": true,
     "points": 15,
     "solution": false
    }
   },
   "outputs": [],
   "source": [
    "answer = '''\n",
    "ORD,Chicago OHare International,Chicago,Illinois,USA\n",
    "DF15W,Dallas/Ft Worth International,Dallas-Ft Worth,Texas,USA\n",
    "ATL,Hartsfield-Jackson Atlanta International,Atlanta,Georgia,USA\n",
    "LAX,Los Angeles International,Los Angeles,California,USA\n",
    "PHX,Phoenix Sky Harbor International,Phoenix,Arizona,USA\n",
    "STL,Lambert-St Louis International,St Louis,Missouri,USA\n",
    "DTW,Detroit Metropolitan Wayne County,Detroit,Michigan,USA\n",
    "MSP,Minneapolis-St Paul International/Wold-Chamberlain,Minneapolis,Minnesota,USA\n",
    "LAS,Las Vegas McCarran International,Las Vegas,Nevada,USA\n",
    "BOS,General Edward Lawrence Logan International,Boston,Massachusetts,USA\n",
    "DEN,Denver International,Denver,Colorado,USA\n",
    "IAH,George Bush Intercontinental/Houston,Houston,Texas,USA\n",
    "CLT,Charlotte Douglas International,Charlotte,North Carolina,USA\n",
    "SFO,San Francisco International,San Francisco,California,USA\n",
    "EWR,Newark International,Newark,New Jersey,USA\n",
    "PHL,Philadelphia International,Philadelphia,Pennsylvania,USA\n",
    "LGA,La Guardia,New York,New York,USA\n",
    "PIT,Pittsburgh International,Pittsburgh,Pennsylvania,USA\n",
    "SEA,Seattle-Tacoma International,Seattle,Washington,USA\n",
    "BWI,Baltimore-Washington International,Baltimore,Maryland,USA\n",
    "'''.strip().split('\\n')\n",
    "\n",
    "with open('top_10_airports.csv') as f:\n",
    "    for i, line in enumerate(f):\n",
    "        assert_equal(line.strip(), answer[i])"
   ]
  }
 ],
 "metadata": {
  "kernelspec": {
   "display_name": "Python 3",
   "language": "python",
   "name": "python3"
  },
  "language_info": {
   "codemirror_mode": {
    "name": "ipython",
    "version": 3
   },
   "file_extension": ".py",
   "mimetype": "text/x-python",
   "name": "python",
   "nbconvert_exporter": "python",
   "pygments_lexer": "ipython3",
   "version": "3.4.0"
  }
 },
 "nbformat": 4,
 "nbformat_minor": 0
}
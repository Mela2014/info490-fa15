{
 "cells": [
  {
   "cell_type": "markdown",
   "metadata": {
    "deletable": false,
    "nbgrader": {
     "checksum": "41a30ab8ea0a3c800ba0e101da71ec81",
     "grade": false,
     "grade_id": "header",
     "locked": true,
     "solution": false
    }
   },
   "source": [
    "Before you turn this problem in, make sure everything runs as expected. First, restart the kernel (in the menubar, select Kernel → Restart) and then run all cells (in the menubar, select Cell → Run All).\n",
    "\n",
    "Make sure you fill in any place that says YOUR CODE HERE.\n",
    "Do not write your answer in anywhere else other than where it says YOUR CODE HERE.\n",
    "\n",
    "First, write your name and NetID below:"
   ]
  },
  {
   "cell_type": "code",
   "execution_count": null,
   "metadata": {
    "collapsed": true
   },
   "outputs": [],
   "source": [
    "NAME = 'WRITE YOUR NAME HERE'\n",
    "NETID = 'WRITE YOUR NETID HERE'"
   ]
  },
  {
   "cell_type": "markdown",
   "metadata": {
    "deletable": false,
    "nbgrader": {
     "checksum": "b03ce462806ca0f6be14b8e380d73a33",
     "grade": false,
     "grade_id": "instruction_0_0",
     "locked": true,
     "solution": false
    }
   },
   "source": [
    "# Problem 3.2. Decision Tree\n",
    "\n",
    "In this problem, you will use what learned about functions and conditionals to build a [decision tree](https://en.wikipedia.org/wiki/Decision_tree) that predicts the survival of passengers on the Titanic.\n",
    "Decision trees are used in [decision tree learning](https://en.wikipedia.org/wiki/Decision_tree_learning),\n",
    "which we will learn more about in the later part of this course when we introduce [machine learning](https://en.wikipedia.org/wiki/Machine_learning).\n",
    "\n",
    "According to [Wikipedia](https://en.wikipedia.org/wiki/Decision_tree_learning#/media/File:CART_tree_titanic_survivors.png), someone named Stephen Milborrow claims that the following decision tree can predict whether a passenger on the Titanic survived or not:"
   ]
  },
  {
   "cell_type": "code",
   "execution_count": null,
   "metadata": {
    "collapsed": false,
    "deletable": false,
    "nbgrader": {
     "checksum": "fbf4365fa57a3dea64edc94fa76c978f",
     "grade": false,
     "grade_id": "show_svg_0",
     "locked": true,
     "solution": false
    }
   },
   "outputs": [],
   "source": [
    "from IPython.display import SVG\n",
    "SVG('Digraph.gv.svg')"
   ]
  },
  {
   "cell_type": "markdown",
   "metadata": {
    "deletable": false,
    "nbgrader": {
     "checksum": "8be038ad5498f93c770762441e57601a",
     "grade": false,
     "grade_id": "instruction_0_1",
     "locked": true,
     "solution": false
    }
   },
   "source": [
    "(Here, _sibsp_ is the number of spouses or siblings aboard. )\n",
    "\n",
    "We will write a function for each question (i.e., each node). We will then combine the three questions into a function named `survived_titanic()` that represents this decision tree, which return `True` if the input values predicts that the passenger would have survived and `False` if the passenger would have died.\n",
    "\n",
    "## 1. Function: `is_male()`\n",
    "\n",
    "In the following code cell, write a function named `is_male()` that represents the top node, \"_is sex male?_\" The function takes one argument (a string), and returns `True` if `sex` is `\"male\"` and `False` if `sex` is `\"female\"`."
   ]
  },
  {
   "cell_type": "code",
   "execution_count": null,
   "metadata": {
    "collapsed": false,
    "deletable": false,
    "nbgrader": {
     "checksum": "052a885291a63e3a455b1cc4490fda45",
     "grade": false,
     "grade_id": "is_male_answer",
     "locked": false,
     "solution": true
    }
   },
   "outputs": [],
   "source": [
    "def is_male(sex):\n",
    "    \n",
    "    # YOUR CODE HERE"
   ]
  },
  {
   "cell_type": "code",
   "execution_count": null,
   "metadata": {
    "collapsed": false,
    "deletable": false,
    "nbgrader": {
     "checksum": "a40cbff523e804c09fb2a3a48eff70b2",
     "grade": true,
     "grade_id": "is_male_test",
     "locked": true,
     "points": 6,
     "solution": false
    }
   },
   "outputs": [],
   "source": [
    "from nose.tools import assert_equal\n",
    "assert_equal(is_male('male'), True)\n",
    "assert_equal(is_male('female'), False)"
   ]
  },
  {
   "cell_type": "markdown",
   "metadata": {
    "deletable": false,
    "nbgrader": {
     "checksum": "42ff1a90d09621f3e0c4ad765e1dce88",
     "grade": false,
     "grade_id": "instruction_1",
     "locked": true,
     "solution": false
    }
   },
   "source": [
    "## 2. Function: `is_old()`\n",
    "\n",
    "In the following code cell, write a function named `is_old()` that represents the second node, \"_is age greater than 9.5?_\" The function takes one argument (an integer), and returns `True` if `age` is greater 9.5 and `False` if `age` is less than 9.5."
   ]
  },
  {
   "cell_type": "code",
   "execution_count": null,
   "metadata": {
    "collapsed": true,
    "deletable": false,
    "nbgrader": {
     "checksum": "5f37ae03eb18792c908fe0f50c57b6fc",
     "grade": false,
     "grade_id": "is_child_answer",
     "locked": false,
     "solution": true
    }
   },
   "outputs": [],
   "source": [
    "def is_old(age):\n",
    "    \n",
    "    # YOUR CODE HERE"
   ]
  },
  {
   "cell_type": "code",
   "execution_count": null,
   "metadata": {
    "collapsed": false,
    "deletable": false,
    "nbgrader": {
     "checksum": "6af3786cf33ecca293db021ade13bb8e",
     "grade": true,
     "grade_id": "is_children_test",
     "locked": true,
     "points": 6,
     "solution": false
    }
   },
   "outputs": [],
   "source": [
    "assert_equal(is_old(1), False)\n",
    "assert_equal(is_old(9), False)\n",
    "assert_equal(is_old(10), True)\n",
    "assert_equal(is_old(20), True)\n",
    "assert_equal(is_old(30), True)"
   ]
  },
  {
   "cell_type": "markdown",
   "metadata": {
    "deletable": false,
    "nbgrader": {
     "checksum": "c36c897e5e3343e20943f56bc90474e7",
     "grade": false,
     "grade_id": "instruction_2",
     "locked": true,
     "solution": false
    }
   },
   "source": [
    "## 3. Function: `has_sibsp()`\n",
    "\n",
    "In the following code cell, write a function named `has_many_sibsp()` that represents the second node, \"_is sibsp greater than 2.5?_\" (sibsp is the number spouses or siblings aboard.) The function takes one argument (an integer), and returns `True` if `sibsp` is greater 2.5 and `False` if `sibsp` is less than 2.5."
   ]
  },
  {
   "cell_type": "code",
   "execution_count": null,
   "metadata": {
    "collapsed": true,
    "deletable": false,
    "nbgrader": {
     "checksum": "6011a8540ac5414a0c6df9b0f2123475",
     "grade": false,
     "grade_id": "has_family_answer",
     "locked": false,
     "solution": true
    }
   },
   "outputs": [],
   "source": [
    "def has_many_sibsp(sibsp):\n",
    "    \n",
    "    # YOUR CODE HERE"
   ]
  },
  {
   "cell_type": "code",
   "execution_count": null,
   "metadata": {
    "collapsed": false,
    "deletable": false,
    "nbgrader": {
     "checksum": "cd6ccf6906daab897be0602060192a2b",
     "grade": true,
     "grade_id": "has_family_test",
     "locked": true,
     "points": 6,
     "solution": false
    }
   },
   "outputs": [],
   "source": [
    "assert_equal(has_many_sibsp(0), False)\n",
    "assert_equal(has_many_sibsp(1), False)\n",
    "assert_equal(has_many_sibsp(2), False)\n",
    "assert_equal(has_many_sibsp(2.5), False)\n",
    "assert_equal(has_many_sibsp(3), True)\n",
    "assert_equal(has_many_sibsp(4), True)"
   ]
  },
  {
   "cell_type": "markdown",
   "metadata": {
    "deletable": false,
    "nbgrader": {
     "checksum": "0c10aa8c96dfcd9c873af5cbd05bd405",
     "grade": false,
     "grade_id": "instruction_3",
     "locked": true,
     "solution": false
    }
   },
   "source": [
    "## 4. Function: `has_sibsp()`\n",
    "\n",
    "In the following code cell, use the three functions, `is_male()`, `is_old()` and `has_many_sibsp()`, insdie a function named `survived_titanic()` to represent the decision tree, \"_would the passenger have survived Titanic?_\" The function takes a string as the first argument, an integer as the second argument, and another integer as the third argument. It returns `True` if the passenger would have survied Titanic and `False` if the passenger would have survied Titanic."
   ]
  },
  {
   "cell_type": "code",
   "execution_count": null,
   "metadata": {
    "collapsed": false,
    "deletable": false,
    "nbgrader": {
     "checksum": "244c71c31f56ac63cbbbeffcbd933a61",
     "grade": false,
     "grade_id": "show_svg_1",
     "locked": true,
     "solution": false
    }
   },
   "outputs": [],
   "source": [
    "from IPython.display import SVG\n",
    "SVG('Digraph.gv.svg')"
   ]
  },
  {
   "cell_type": "code",
   "execution_count": null,
   "metadata": {
    "collapsed": true,
    "deletable": false,
    "nbgrader": {
     "checksum": "f57938f2521d51149f12d0265f06741f",
     "grade": false,
     "grade_id": "survived_titanic_answer",
     "locked": false,
     "solution": true
    }
   },
   "outputs": [],
   "source": [
    "def survived_titanic(sex, age, sibsp):\n",
    "    \n",
    "    # YOUR CODE HERE"
   ]
  },
  {
   "cell_type": "code",
   "execution_count": null,
   "metadata": {
    "collapsed": false,
    "deletable": false,
    "nbgrader": {
     "checksum": "b7f78ea2b0e99fa13db94d03371eebde",
     "grade": true,
     "grade_id": "survived_titanic_test",
     "locked": true,
     "points": 12,
     "solution": false
    }
   },
   "outputs": [],
   "source": [
    "assert_equal(survived_titanic('male', 10, 2), False)\n",
    "assert_equal(survived_titanic('male', 9, 2), True)\n",
    "assert_equal(survived_titanic('male', 10, 3), False)\n",
    "assert_equal(survived_titanic('male', 9, 3), False)\n",
    "assert_equal(survived_titanic('female', 10, 2), True)\n",
    "assert_equal(survived_titanic('female', 9, 2), True)\n",
    "assert_equal(survived_titanic('female', 10, 3), True)\n",
    "assert_equal(survived_titanic('female', 9, 3), True)"
   ]
  }
 ],
 "metadata": {
  "kernelspec": {
   "display_name": "Python 3",
   "language": "python",
   "name": "python3"
  },
  "language_info": {
   "codemirror_mode": {
    "name": "ipython",
    "version": 3
   },
   "file_extension": ".py",
   "mimetype": "text/x-python",
   "name": "python",
   "nbconvert_exporter": "python",
   "pygments_lexer": "ipython3",
   "version": "3.4.0"
  }
 },
 "nbformat": 4,
 "nbformat_minor": 0
}